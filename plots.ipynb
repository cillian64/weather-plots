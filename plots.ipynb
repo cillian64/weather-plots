{
 "cells": [
  {
   "cell_type": "markdown",
   "metadata": {},
   "source": [
    "Initialization and setup stuff:"
   ]
  },
  {
   "cell_type": "code",
   "execution_count": 3,
   "metadata": {
    "collapsed": false
   },
   "outputs": [],
   "source": [
    "import psycopg2 as pg\n",
    "import numpy as np\n",
    "import scipy\n",
    "from time import time\n",
    "from datetime import datetime\n",
    "from datetime import timedelta\n",
    "from matplotlib import pyplot as plt\n",
    "%matplotlib inline"
   ]
  },
  {
   "cell_type": "code",
   "execution_count": 4,
   "metadata": {
    "collapsed": false
   },
   "outputs": [],
   "source": [
    "conn = pg.connect(database=\"weather\", user=\"weather_ro\", host=\"localhost\")\n",
    "conn.autocommit = True\n",
    "cur = conn.cursor()"
   ]
  },
  {
   "cell_type": "markdown",
   "metadata": {},
   "source": [
    "Datetime types in our database are timezone-naive.  The timezone setting decides how naive timestamps should be interpretted.  Ours are UTC rather than local"
   ]
  },
  {
   "cell_type": "code",
   "execution_count": 5,
   "metadata": {
    "collapsed": false
   },
   "outputs": [],
   "source": [
    "cur.execute(\"SET SESSION TIME ZONE UTC;\")"
   ]
  },
  {
   "cell_type": "markdown",
   "metadata": {},
   "source": [
    "Check everything looks good:"
   ]
  },
  {
   "cell_type": "code",
   "execution_count": 6,
   "metadata": {
    "collapsed": false
   },
   "outputs": [
    {
     "name": "stdout",
     "output_type": "stream",
     "text": [
      "346134 rows found.\n"
     ]
    }
   ],
   "source": [
    "cur.execute(\"SELECT count(*) FROM tblWeatherHistoric;\")\n",
    "print(\"{} rows found.\".format(cur.fetchall()[0][0]))"
   ]
  },
  {
   "cell_type": "markdown",
   "metadata": {},
   "source": [
    "Fetch everything a la historic:"
   ]
  },
  {
   "cell_type": "code",
   "execution_count": 7,
   "metadata": {
    "collapsed": false
   },
   "outputs": [
    {
     "name": "stdout",
     "output_type": "stream",
     "text": [
      "Got 346134 rows.\n"
     ]
    }
   ],
   "source": [
    "cur.execute(\"SELECT timestamp, avtemp, instsunhours, instrainfall FROM tblWeatherHistoric ORDER BY timestamp ASC;\")\n",
    "print(\"Got {} rows.\".format(cur.rowcount))\n",
    "timestamps, av_temps, sunhourss, rainfalls = zip(*cur.fetchall())\n",
    "t = np.array(timestamps)"
   ]
  },
  {
   "cell_type": "markdown",
   "metadata": {},
   "source": [
    "#Mask and process data"
   ]
  },
  {
   "cell_type": "code",
   "execution_count": 8,
   "metadata": {
    "collapsed": false
   },
   "outputs": [
    {
     "name": "stdout",
     "output_type": "stream",
     "text": [
      "194 invalid sun-entries\n"
     ]
    }
   ],
   "source": [
    "av_temps = [np.nan if x is None else np.float(x) for x in av_temps]\n",
    "av_temps = np.array(av_temps) / 10.0\n",
    "\n",
    "sunhourss = np.array(sunhourss)/100.0\n",
    "print(\"{} invalid sun-entries\".format(sum(sunhourss>0.6)))\n",
    "sunhourss[sunhourss>0.6] = np.nan\n",
    "\n",
    "rainfalls = np.array(rainfalls) / 1000.0"
   ]
  },
  {
   "cell_type": "markdown",
   "metadata": {},
   "source": [
    "#More Crunching"
   ]
  },
  {
   "cell_type": "markdown",
   "metadata": {},
   "source": [
    "Work out sunshine per day.  This takes a few minutes."
   ]
  },
  {
   "cell_type": "code",
   "execution_count": 9,
   "metadata": {
    "collapsed": false
   },
   "outputs": [
    {
     "name": "stderr",
     "output_type": "stream",
     "text": [
      "/auto/homes/dwt27/git/weather-plots/venv/local/lib/python2.7/site-packages/numpy/lib/nanfunctions.py:514: FutureWarning: In Numpy 1.9 the sum along empty slices will be zero.\n",
      "  FutureWarning)\n"
     ]
    }
   ],
   "source": [
    "day0 = datetime(year=1995,month=6,day=30,hour=0,minute=0,second=0)\n",
    "days = []\n",
    "daysunhourss = []\n",
    "day = day0\n",
    "while day < datetime(year=2015,month=6,day=30,hour=0,minute=0,second=0):\n",
    "    days.append(day)\n",
    "    tomorrow = day + timedelta(days=1)\n",
    "    timestoday = np.logical_and(t > day, t < tomorrow)\n",
    "    suntoday = np.nansum(sunhourss[timestoday])\n",
    "    daysunhourss.append(suntoday)\n",
    "    day = tomorrow\n",
    "days = np.array(days)\n",
    "daysunhourss = np.array(daysunhourss)"
   ]
  },
  {
   "cell_type": "markdown",
   "metadata": {},
   "source": [
    "Work out max temp per day.  This takes a few minutes"
   ]
  },
  {
   "cell_type": "code",
   "execution_count": 10,
   "metadata": {
    "collapsed": false
   },
   "outputs": [],
   "source": [
    "max_daily_temps = np.zeros((days.size))\n",
    "for idx, day in enumerate(days):\n",
    "    tomorrow = day + timedelta(days=1)\n",
    "    timestoday = np.logical_and(t > day, t < tomorrow)\n",
    "    try: today_max = np.nanmax(av_temps[timestoday])\n",
    "    except ValueError: today_max = 0.0\n",
    "    max_daily_temps[idx] = today_max"
   ]
  },
  {
   "cell_type": "markdown",
   "metadata": {},
   "source": [
    "Cumulative rain per day in mm.  Again, be patient."
   ]
  },
  {
   "cell_type": "code",
   "execution_count": 11,
   "metadata": {
    "collapsed": false
   },
   "outputs": [],
   "source": [
    "daily_rainfall = np.zeros((days.size))\n",
    "for idx, day in enumerate(days):\n",
    "    tomorrow = day + timedelta(days=1)\n",
    "    timestoday = np.logical_and(t > day, t < tomorrow)\n",
    "    rain_today = np.nansum(rainfalls[timestoday]) / 2.0  # summing mm/hr for half-hourly blocks\n",
    "    daily_rainfall[idx] = rain_today"
   ]
  },
  {
   "cell_type": "markdown",
   "metadata": {},
   "source": [
    "Characterise summers"
   ]
  },
  {
   "cell_type": "code",
   "execution_count": 12,
   "metadata": {
    "collapsed": false
   },
   "outputs": [],
   "source": [
    "summer = datetime(year=1995, month=6, day=1, hour=0, minute=0, second=0)\n",
    "summers = []\n",
    "warm_sunny_days_in_summer = []\n",
    "hot_sunny_days_in_summer = []\n",
    "rainy_days_in_summer = []\n",
    "while summer < datetime(2015, month=1, day=1, hour=0, minute=0, second=0):\n",
    "    end_summer = summer.replace(month=9)\n",
    "    days_in_summer = np.logical_and(days > summer, days < end_summer)\n",
    "    warm = np.nan_to_num(max_daily_temps[days_in_summer]) > 20.0\n",
    "    hot = np.nan_to_num(max_daily_temps[days_in_summer]) > 25.0\n",
    "    rainy = np.nan_to_num(daily_rainfall[days_in_summer]) > 1.0\n",
    "    sunny = np.nansum(np.nan_to_num(daysunhourss) > 7)\n",
    "    warm_and_sunny = np.logical_and(warm, sunny)\n",
    "    hot_and_sunny = np.logical_and(hot, sunny)\n",
    "    \n",
    "    summers.append(summer)\n",
    "    warm_sunny_days_in_summer.append(np.nansum(warm_and_sunny))\n",
    "    hot_sunny_days_in_summer.append(np.nansum(hot_and_sunny))\n",
    "    rainy_days_in_summer.append(np.nansum(rainy))\n",
    "    \n",
    "    summer = summer.replace(year=summer.year+1)"
   ]
  },
  {
   "cell_type": "markdown",
   "metadata": {},
   "source": [
    "Rate My Summer"
   ]
  },
  {
   "cell_type": "code",
   "execution_count": 25,
   "metadata": {
    "collapsed": false
   },
   "outputs": [
    {
     "name": "stdout",
     "output_type": "stream",
     "text": [
      "  1995: Hot&sunny: 57  Warm&sunny: 40  Rainy:  5  Score:  157  \n",
      "  1996: Hot&sunny: 70  Warm&sunny: 33  Rainy: 16  Score:  105  \n",
      "  1997: Hot&sunny: 69  Warm&sunny: 36  Rainy: 23  Score:   85  \n",
      "  1998: Hot&sunny: 60  Warm&sunny: 16  Rainy: 18  Score:   36  \n",
      "  1999: Hot&sunny: 66  Warm&sunny: 35  Rainy: 18  Score:   99  \n",
      "  2000: Hot&sunny: 63  Warm&sunny: 23  Rainy:  8  Score:  100  \n",
      "  2001: Hot&sunny: 68  Warm&sunny: 29  Rainy: 16  Score:   91  \n",
      "  2002: Hot&sunny: 67  Warm&sunny: 25  Rainy: 16  Score:   78  \n",
      "+ 2003: Hot&sunny: 82  Warm&sunny: 49  Rainy: 12  Score:  181 +\n",
      "  2004: Hot&sunny: 82  Warm&sunny: 35  Rainy: 13  Score:  135  \n",
      "  2005: Hot&sunny: 75  Warm&sunny: 34  Rainy: 15  Score:  117  \n",
      "  2006: Hot&sunny: 81  Warm&sunny: 40  Rainy: 16  Score:  137  \n",
      "  2007: Hot&sunny: 65  Warm&sunny: 13  Rainy: 23  Score:   12  \n",
      "  2008: Hot&sunny: 70  Warm&sunny: 14  Rainy: 14  Score:   56  \n",
      "  2009: Hot&sunny: 34  Warm&sunny:  5  Rainy:  9  Score:   13  \n",
      "  2010: Hot&sunny: 66  Warm&sunny: 19  Rainy: 17  Score:   55  \n",
      "  2011: Hot&sunny: 51  Warm&sunny:  7  Rainy: 21  Score:  -12  \n",
      "- 2012: Hot&sunny: 52  Warm&sunny: 13  Rainy: 31  Score:  -33 -\n",
      "  2013: Hot&sunny: 65  Warm&sunny: 22  Rainy: 15  Score:   71  \n",
      "  2014: Hot&sunny: 63  Warm&sunny: 17  Rainy: 19  Score:   38  \n"
     ]
    }
   ],
   "source": [
    "summer_scores = [3*hotsunny + warmsunny - 4*rainy for\n",
    "                 warmsunny, hotsunny, rainy in zip(warm_sunny_days_in_summer,\n",
    "                                              hot_sunny_days_in_summer,\n",
    "                                              rainy_days_in_summer)]\n",
    "for summer, warmsunny, hotsunny, rainy, score in zip(summers, warm_sunny_days_in_summer,\n",
    "                                              hot_sunny_days_in_summer,\n",
    "                                              rainy_days_in_summer,\n",
    "                                              summer_scores):\n",
    "    if score == max(summer_scores):\n",
    "        indicator = \"+\"\n",
    "    elif score == min(summer_scores):\n",
    "        indicator = \"-\"\n",
    "    else:\n",
    "        indicator = \" \"\n",
    "    print(\"{} {}: Hot&sunny:{: 3}  Warm&sunny:{: 3}  Rainy:{: 3}  Score: {: 4d} {}\".format(\n",
    "            indicator, summer.year, warmsunny, hotsunny, rainy, score, indicator))"
   ]
  },
  {
   "cell_type": "markdown",
   "metadata": {},
   "source": [
    "#Interesting Results"
   ]
  },
  {
   "cell_type": "markdown",
   "metadata": {},
   "source": [
    "Average temperature over all time"
   ]
  },
  {
   "cell_type": "code",
   "execution_count": 26,
   "metadata": {
    "collapsed": false
   },
   "outputs": [
    {
     "name": "stdout",
     "output_type": "stream",
     "text": [
      "Average temperature: 10.8 celsius\n"
     ]
    }
   ],
   "source": [
    "print(\"Average temperature: {:.1f} celsius\".format(np.nanmean(av_temps)))"
   ]
  },
  {
   "cell_type": "code",
   "execution_count": 15,
   "metadata": {
    "collapsed": false
   },
   "outputs": [
    {
     "name": "stdout",
     "output_type": "stream",
     "text": [
      "The sunniest day was 2005-06-27 00:00:00 with 16.6 hours\n"
     ]
    }
   ],
   "source": [
    "print(\"The sunniest day was {} with {} hours\".format(\n",
    "    days[np.nanargmax(daysunhourss)], np.nanmax(daysunhourss)))"
   ]
  },
  {
   "cell_type": "code",
   "execution_count": 61,
   "metadata": {
    "collapsed": false
   },
   "outputs": [
    {
     "name": "stdout",
     "output_type": "stream",
     "text": [
      "1429 (19.6%) days had more than 7 hours sun, 584 (8.0%) more than 10 hours.\n"
     ]
    }
   ],
   "source": [
    "n_days = days.size\n",
    "sun_seven = np.nansum(np.nan_to_num(daysunhourss) > 7)\n",
    "sun_ten = np.nansum(np.nan_to_num(daysunhourss) > 10)\n",
    "print(\"{} ({:.1f}%) days had more than 7 hours sun, {} ({:.1f}%) more than 10 hours.\".format(\n",
    "        sun_seven, 100.0*sun_seven/n_days, sun_ten, 100.0*sun_ten/n_days))"
   ]
  },
  {
   "cell_type": "code",
   "execution_count": 64,
   "metadata": {
    "collapsed": false
   },
   "outputs": [
    {
     "name": "stdout",
     "output_type": "stream",
     "text": [
      "I count 1912 (26.2%) warm days and 629 (8.6) hot days\n"
     ]
    }
   ],
   "source": [
    "warm_days = np.nan_to_num(max_daily_temps) > 20.0\n",
    "hot_days = np.nan_to_num(max_daily_temps) > 25.0\n",
    "print(\"I count {} ({:.1f}%) warm days and {} ({:.1f}) hot days\".format(\n",
    "    sum(warm_days), 100.0*sum(warm_days)/n_days,\n",
    "    sum(hot_days), 100.0*sum(hot_days)/n_days))"
   ]
  },
  {
   "cell_type": "code",
   "execution_count": 71,
   "metadata": {
    "collapsed": false
   },
   "outputs": [
    {
     "name": "stdout",
     "output_type": "stream",
     "text": [
      "I count 1291 (17.7%) rainy days (1mm), and 237 (3.2%) really wet (5mm) days\n"
     ]
    }
   ],
   "source": [
    "rainy = np.nan_to_num(daily_rainfall) > 1.0\n",
    "soggy = np.nan_to_num(daily_rainfall) > 5.0\n",
    "print(\"I count {} ({:.1f}%) rainy days (1mm), and {} ({:.1f}%) really wet (5mm) days\".format(\n",
    "    sum(rainy), 100.0*sum(rainy)/n_days,\n",
    "    sum(soggy), 100.0*sum(soggy)/n_days))"
   ]
  },
  {
   "cell_type": "code",
   "execution_count": 72,
   "metadata": {
    "collapsed": false
   },
   "outputs": [
    {
     "name": "stdout",
     "output_type": "stream",
     "text": [
      "Total rainfall: 5.5m\n"
     ]
    }
   ],
   "source": [
    "tot = np.nansum(rainfalls)/2000.0\n",
    "print(\"Total rainfall: {:.1f}m\".format(tot))"
   ]
  },
  {
   "cell_type": "code",
   "execution_count": 73,
   "metadata": {
    "collapsed": false
   },
   "outputs": [
    {
     "name": "stdout",
     "output_type": "stream",
     "text": [
      "Average daily sun: 3.8 hours\n",
      "Roof PV area required for 200 coffees per day: 14.7m^2\n"
     ]
    }
   ],
   "source": [
    "avesun = np.nanmean(daysunhourss)\n",
    "print(\"Average daily sun: {:.1f} hours\".format(avesun))\n",
    "coffee_per_day = 100 * 2 # 100 phd students, 2 coffees per day\n",
    "energy_per_day = coffee_per_day * 150000.0  # ~150kJ to boil a cup of water\n",
    "energy_per_sunhour = energy_per_day / avesun\n",
    "# 150 watts per sq meter of panel (inc efficiency) = 540,000 J / hr / m^2\n",
    "energy_per_sunhour_per_sqmetre = 540000.0 \n",
    "area_req = energy_per_sunhour / energy_per_sunhour_per_sqmetre\n",
    "print(\"Roof PV area required for 200 coffees per day: {:.1f}m^2\".format(area_req))"
   ]
  }
 ],
 "metadata": {
  "kernelspec": {
   "display_name": "Python 2",
   "language": "python",
   "name": "python2"
  },
  "language_info": {
   "codemirror_mode": {
    "name": "ipython",
    "version": 2
   },
   "file_extension": ".py",
   "mimetype": "text/x-python",
   "name": "python",
   "nbconvert_exporter": "python",
   "pygments_lexer": "ipython2",
   "version": "2.7.6"
  }
 },
 "nbformat": 4,
 "nbformat_minor": 0
}
